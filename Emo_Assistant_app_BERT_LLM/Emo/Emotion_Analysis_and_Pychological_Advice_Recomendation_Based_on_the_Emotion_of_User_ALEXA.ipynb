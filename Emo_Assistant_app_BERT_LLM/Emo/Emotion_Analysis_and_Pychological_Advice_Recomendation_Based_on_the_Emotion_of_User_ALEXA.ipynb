{
 "cells": [
  {
   "cell_type": "markdown",
   "metadata": {
    "colab_type": "text",
    "id": "view-in-github"
   },
   "source": [
    "<a href=\"https://colab.research.google.com/github/SDineshKumar1304/Dinesh-kumar-S-Work/blob/main/Emotion_Analysis_and_Pychological_Advice_Recomendation_Based_on_the_Emotion_of_User_ALEXA.ipynb\" target=\"_parent\"><img src=\"https://colab.research.google.com/assets/colab-badge.svg\" alt=\"Open In Colab\"/></a>"
   ]
  },
  {
   "cell_type": "code",
   "execution_count": null,
   "metadata": {
    "colab": {
     "base_uri": "https://localhost:8080/"
    },
    "id": "GyjRrplIVklO",
    "outputId": "cef2071e-076c-4cda-bb15-05f43ff6f238"
   },
   "outputs": [],
   "source": [
    "pip install SpeechRecognition pyttsx3 wikipedia requests"
   ]
  },
  {
   "cell_type": "code",
   "execution_count": null,
   "metadata": {},
   "outputs": [],
   "source": [
    "pip install --upgrade transformers"
   ]
  },
  {
   "cell_type": "code",
   "execution_count": null,
   "metadata": {},
   "outputs": [],
   "source": [
    "pip install pyaudio"
   ]
  },
  {
   "cell_type": "markdown",
   "metadata": {
    "id": "zH5y-XaXWKig"
   },
   "source": [
    "# **Importing Libraries:**\n",
    "speech_recognition for speech recognition,\n",
    "\n",
    "pyttsx3 for text-to-speech conversion.\n",
    "\n",
    "wikipedia for searching Wikipedia.\n",
    "\n",
    "time for time-related functions.\n",
    "\n",
    "webbrowser for opening websites.\n",
    "\n",
    "transformers for emotion analysis.\n",
    "\n",
    "re for regular expressions.\n",
    "\n",
    "numpy for random selection of suggestions."
   ]
  },
  {
   "cell_type": "code",
   "execution_count": 1,
   "metadata": {
    "id": "kl6TVIScWJp4"
   },
   "outputs": [],
   "source": [
    "import speech_recognition as sr\n",
    "import pyttsx3\n",
    "import wikipedia\n",
    "import time\n",
    "import webbrowser\n",
    "from transformers import pipeline\n",
    "import re\n",
    "import numpy as np\n"
   ]
  },
  {
   "cell_type": "markdown",
   "metadata": {
    "id": "iHL1e_DoW3F3"
   },
   "source": [
    "# **Initializing Speech Recognition and Text-to-Speech:**\n",
    "r is an instance of the Recognizer class from the speech_recognition library, used for speech recognition.\n",
    "engine is an instance of the text-to-speech engine from pyttsx3.\n",
    "It sets the voice of the engine to the second voice available."
   ]
  },
  {
   "cell_type": "code",
   "execution_count": 2,
   "metadata": {
    "id": "52FKlVmGW-cK"
   },
   "outputs": [],
   "source": [
    "r = sr.Recognizer()\n",
    "engine = pyttsx3.init()\n",
    "voices = engine.getProperty('voices')\n",
    "engine.setProperty('voice', voices[1].id)\n"
   ]
  },
  {
   "cell_type": "markdown",
   "metadata": {
    "id": "aI6sTMyrXA0H"
   },
   "source": [
    "# **Emotion Analysis Pipeline:**\n",
    "This line sets up an emotion analysis pipeline using the Hugging Face transformers library. It uses the 'arpanghoshal/EmoRoBERTa' model to analyze emotions in text."
   ]
  },
  {
   "cell_type": "code",
   "execution_count": 3,
   "metadata": {
    "id": "oq6ZP6eyXHdn"
   },
   "outputs": [
    {
     "name": "stderr",
     "output_type": "stream",
     "text": [
      "All model checkpoint layers were used when initializing TFRobertaForSequenceClassification.\n",
      "\n",
      "All the layers of TFRobertaForSequenceClassification were initialized from the model checkpoint at arpanghoshal/EmoRoBERTa.\n",
      "If your task is similar to the task the model of the checkpoint was trained on, you can already use TFRobertaForSequenceClassification for predictions without further training.\n"
     ]
    }
   ],
   "source": [
    "emotion = pipeline('sentiment-analysis', model='arpanghoshal/EmoRoBERTa')"
   ]
  },
  {
   "cell_type": "markdown",
   "metadata": {
    "id": "eUJAgT5WXMoF"
   },
   "source": [
    "# **Chatbot Response Function:**\n",
    "This function takes the detected sentiment as input and returns a response with suggestions based on the sentiment. It covers a range of emotions, including positive, joy, sadness, anger, fear, surprise, happiness, love, relief, contentment, amusement, pride, excitement, peace, satisfaction, loneliness, and heartbreak and Neutal."
   ]
  },
  {
   "cell_type": "code",
   "execution_count": 4,
   "metadata": {
    "id": "jBMbIM6YXVct"
   },
   "outputs": [],
   "source": [
    "def chatbot_response(sentiment):\n",
    "    if sentiment == \"positive\":\n",
    "        positive_suggestions = [\n",
    "            \"Why not celebrate by treating yourself?\",\n",
    "            \"Consider spending some time outdoors.\",\n",
    "            \"You could explore a new hobby or activity.\",\n",
    "            \"Call a friend and share your positive energy.\"\n",
    "        ]\n",
    "        return f\"That's wonderful! I'm glad you're feeling positive. Here are some suggestions to make you feel even more positive:\\n{np.random.choice(positive_suggestions)}\"\n",
    "    if sentiment == \"joy\":\n",
    "        joy_suggestions = [\n",
    "            \"That's fantastic! Enjoy the moment to the fullest!\",\n",
    "            \"Consider sharing your happiness with someone close to you.\",\n",
    "            \"Why not plan a fun activity to celebrate?\"\n",
    "        ]\n",
    "        return f\"I can sense your joy! Here are some suggestions to keep the positivity flowing:\\n{np.random.choice(joy_suggestions)}\"\n",
    "    elif sentiment == \"sadness\":\n",
    "        sadness_suggestions = [\n",
    "            \"I'm sorry to hear that. It's okay to feel sad sometimes. Reach out to friends or family for support.\",\n",
    "            \"You might find comfort in your favorite music or a good book.\",\n",
    "            \"Consider taking a walk to clear your mind and let your feelings out.\"\n",
    "        ]\n",
    "        return f\"I'm here for you during this tough time. Here are some suggestions to help you feel better:\\n{np.random.choice(sadness_suggestions)}\"\n",
    "    elif sentiment == \"anger\":\n",
    "        anger_suggestions = [\n",
    "            \"Take some deep breaths and try to calm down.\",\n",
    "            \"You can write down your feelings to vent your anger.\",\n",
    "            \"Consider talking to someone you trust about what's bothering you.\"\n",
    "        ]\n",
    "        return f\"It sounds like you're feeling angry. Here are some suggestions to manage your anger:\\n{np.random.choice(anger_suggestions)}\"\n",
    "    elif sentiment == \"fear\":\n",
    "        fear_suggestions = [\n",
    "            \"It's normal to feel fear sometimes. Try to identify the source of your fear.\",\n",
    "            \"Consider practicing relaxation techniques to reduce fear and anxiety.\",\n",
    "            \"Reach out to a supportive friend or family member to discuss your fears.\"\n",
    "        ]\n",
    "        return f\"I sense fear in your voice. Here are some suggestions to address your fears:\\n{np.random.choice(fear_suggestions)}\"\n",
    "    elif sentiment == \"surprise\":\n",
    "        surprise_suggestions = [\n",
    "            \"Embrace the element of surprise! Life can be full of unexpected joys.\",\n",
    "            \"Explore new experiences and opportunities that come your way.\",\n",
    "            \"Take a moment to appreciate the beauty of surprise in everyday life.\"\n",
    "        ]\n",
    "        return f\"It seems like you're feeling surprised. Here are some suggestions to make the most of it:\\n{np.random.choice(surprise_suggestions)}\"\n",
    "    elif sentiment == \"happiness\":\n",
    "        happiness_suggestions = [\n",
    "            \"Celebrate your happiness! Do something that brings you joy.\",\n",
    "            \"Share your happiness with loved ones and spread positivity.\",\n",
    "            \"Consider setting new goals to keep the happiness going.\"\n",
    "        ]\n",
    "        return f\"I sense happiness in your voice! Here are some suggestions to keep the happiness flowing:\\n{np.random.choice(happiness_suggestions)}\"\n",
    "    elif sentiment == \"love\":\n",
    "        love_suggestions = [\n",
    "            \"Love is a beautiful feeling. Cherish it and express your love to those who matter.\",\n",
    "            \"Take time to nurture your relationships and create memorable moments.\",\n",
    "            \"Consider doing something thoughtful for someone you love.\"\n",
    "        ]\n",
    "        return f\"Love is in the air! Here are some suggestions to embrace and share your love:\\n{np.random.choice(love_suggestions)}\"\n",
    "    elif sentiment == \"relief\":\n",
    "        relief_suggestions = [\n",
    "            \"Relief is a great feeling. Take a moment to relax and breathe easy.\",\n",
    "            \"Reflect on what caused your relief and how you can avoid stress in the future.\",\n",
    "            \"Consider celebrating your accomplishments that led to this relief.\"\n",
    "        ]\n",
    "        return f\"I sense relief in your voice! Here are some suggestions to make the most of it:\\n{np.random.choice(relief_suggestions)}\"\n",
    "    elif sentiment == \"contentment\":\n",
    "        contentment_suggestions = [\n",
    "            \"Contentment is precious. Focus on gratitude and appreciate what you have.\",\n",
    "            \"Take time to relax and enjoy the present moment without worrying about the future.\",\n",
    "            \"Consider sharing your contentment with others and spreading positivity.\"\n",
    "        ]\n",
    "        return f\"I sense contentment in your voice! Here are some suggestions to maintain your contentment:\\n{np.random.choice(contentment_suggestions)}\"\n",
    "    elif sentiment == \"amusement\":\n",
    "        amusement_suggestions = [\n",
    "            \"Amusement is a delightful feeling. Embrace laughter and joy.\",\n",
    "            \"Watch or do something funny to keep the amusement going.\",\n",
    "            \"Share amusing moments with friends and family for a good laugh.\"\n",
    "        ]\n",
    "        return f\"I sense amusement in your voice! Here are some suggestions to keep the amusement flowing:\\n{np.random.choice(amusement_suggestions)}\"\n",
    "    elif sentiment == \"pride\":\n",
    "        pride_suggestions = [\n",
    "            \"Feeling proud is wonderful. Reflect on your achievements and hard work.\",\n",
    "            \"Consider setting new goals to achieve even more and build on your success.\",\n",
    "            \"Share your pride with loved ones and inspire them to pursue their dreams.\"\n",
    "        ]\n",
    "        return f\"I sense pride in your voice! Here are some suggestions to continue feeling proud:\\n{np.random.choice(pride_suggestions)}\"\n",
    "    elif sentiment == \"excitement\":\n",
    "        excitement_suggestions = [\n",
    "            \"Excitement is contagious. Embrace it and look forward to new experiences.\",\n",
    "            \"Consider planning exciting adventures or activities to keep the thrill alive.\",\n",
    "            \"Share your excitement with friends and create memorable moments together.\"\n",
    "        ]\n",
    "        return f\"I sense excitement in your voice! Here are some suggestions to make the most of it:\\n{np.random.choice(excitement_suggestions)}\"\n",
    "    elif sentiment == \"peace\":\n",
    "        peace_suggestions = [\n",
    "            \"Peace is a serene feeling. Take time for relaxation and meditation.\",\n",
    "            \"Create a peaceful environment at home and in your daily life.\",\n",
    "            \"Consider spreading peace through acts of kindness and understanding.\"\n",
    "        ]\n",
    "        return f\"I sense peace in your voice! Here are some suggestions to maintain your inner peace:\\n{np.random.choice(peace_suggestions)}\"\n",
    "    elif sentiment == \"satisfaction\":\n",
    "        satisfaction_suggestions = [\n",
    "            \"Satisfaction is fulfilling. Reflect on your achievements and accomplishments.\",\n",
    "            \"Set new goals to continue feeling satisfied with your progress.\",\n",
    "            \"Share your satisfaction with others and inspire them to pursue their dreams.\"\n",
    "        ]\n",
    "        return f\"I sense satisfaction in your voice! Here are some suggestions to keep the satisfaction going:\\n{np.random.choice(satisfaction_suggestions)}\"\n",
    "    elif sentiment == \"lonely\":\n",
    "        lonely_suggestions = [\n",
    "            \"I'm here to chat with you if you're feeling lonely.\",\n",
    "            \"Consider reaching out to a friend or loved one to connect.\",\n",
    "            \"You can find comfort in activities you enjoy, like reading or listening to music.\"\n",
    "        ]\n",
    "        return f\"I sense loneliness in your voice. Here are some suggestions:\\n{np.random.choice(lonely_suggestions)}\"\n",
    "    elif sentiment == \"heartbroken\":\n",
    "        heartbroken_suggestions = [\n",
    "            \"I'm truly sorry to hear that you're heartbroken. It's okay to grieve.\",\n",
    "            \"Lean on your support system and talk to someone about your feelings.\",\n",
    "            \"Time can heal. Focus on self-care and healing.\"\n",
    "        ]\n",
    "        return f\"I sense heartbreak. Here are some suggestions:\\n{np.random.choice(heartbroken_suggestions)}\"\n",
    "    else:\n",
    "        neutral_suggestions = [\n",
    "            \"You could try a new book or movie to lift your spirits.\",\n",
    "            \"Engage in a mindfulness exercise to center yourself.\",\n",
    "            \"Plan a small outing to break the routine.\",\n",
    "            \"Take a moment to reflect on your day and find the positives.\"\n",
    "        ]\n",
    "        return f\"Oh I see. Your feelings are quite balanced. Here are some suggestions:\\n{np.random.choice(neutral_suggestions)}\"\n"
   ]
  },
  {
   "cell_type": "markdown",
   "metadata": {
    "id": "aWi421yLXxvT"
   },
   "source": [
    "# **Text-to-Speech Function:**\n",
    "This function takes a text input and uses the text-to-speech engine to convert it to speech."
   ]
  },
  {
   "cell_type": "code",
   "execution_count": 5,
   "metadata": {
    "id": "ImNBIGj2X4fu"
   },
   "outputs": [],
   "source": [
    "def speak(text):\n",
    "    engine.say(text)\n",
    "    engine.runAndWait()\n"
   ]
  },
  {
   "cell_type": "markdown",
   "metadata": {
    "id": "MIsaOlKsX6_W"
   },
   "source": [
    "# **Greetings Function:**\n",
    "This function greets the user based on the current time."
   ]
  },
  {
   "cell_type": "code",
   "execution_count": 6,
   "metadata": {
    "id": "n6cABgInYCSh"
   },
   "outputs": [],
   "source": [
    "def wishme():\n",
    "    hour = int(time.strftime(\"%H\"))\n",
    "    if hour >= 0 and hour < 12:\n",
    "        speak(\"Good morning My Boss!\")\n",
    "    elif hour >= 12 and hour < 18:\n",
    "        speak(\"Good afternoon My Boss!\")\n",
    "    else:\n",
    "        speak(\"Good evening My Boss!\")"
   ]
  },
  {
   "cell_type": "markdown",
   "metadata": {
    "id": "4JzWFzTpYJC1"
   },
   "source": [
    "# **User Command Function (Speech Recognition):**\n",
    "This function uses a microphone to listen to the user's command and returns the recognized text."
   ]
  },
  {
   "cell_type": "code",
   "execution_count": 7,
   "metadata": {
    "id": "_g-ZMjqUYSuF"
   },
   "outputs": [],
   "source": [
    "def takeCommand():\n",
    "    with sr.Microphone() as mic:\n",
    "        print(\"Speak now...\")\n",
    "        audio = r.listen(mic)\n",
    "    try:\n",
    "        command = r.recognize_google(audio)\n",
    "        print(\"You said: \" + command)\n",
    "        return command.lower()\n",
    "    except Exception as e:\n",
    "        print(\"I couldn't understand what you said.\")\n",
    "        return None"
   ]
  },
  {
   "cell_type": "markdown",
   "metadata": {
    "id": "XmOBusP4YTGj"
   },
   "source": [
    "# **Wikipedia Search Function:**\n",
    "This function searches Wikipedia for information based on a user query and reads the summary."
   ]
  },
  {
   "cell_type": "code",
   "execution_count": 8,
   "metadata": {
    "id": "KJg2AaEHYZ4A"
   },
   "outputs": [],
   "source": [
    "def searchWikipedia(query):\n",
    "    try:\n",
    "        result = wikipedia.summary(query, sentences=2)\n",
    "        speak(\"According to my Knowledge\")\n",
    "        speak(result)\n",
    "    except wikipedia.exceptions.DisambiguationError as e:\n",
    "        speak(\"There are multiple possible results. Please specify your query.\")\n",
    "    except wikipedia.exceptions.PageError as e:\n",
    "        speak(\"I couldn't find any information about that.\")"
   ]
  },
  {
   "cell_type": "markdown",
   "metadata": {
    "id": "o93PCkhvYaNO"
   },
   "source": [
    "# **Website Opening Function:**\n",
    "This function opens a specified website in a web browser."
   ]
  },
  {
   "cell_type": "code",
   "execution_count": 9,
   "metadata": {
    "id": "n6dmVpbcYj-f"
   },
   "outputs": [],
   "source": [
    "def openWebsite(url):\n",
    "    webbrowser.open(url)"
   ]
  },
  {
   "cell_type": "markdown",
   "metadata": {
    "id": "L7qAFkSDYkae"
   },
   "source": [
    "# **Emotion Analysis Function (Speech and Text):**\n",
    "This function allows the user to input text or speech, analyzes the emotion, and provides appropriate responses."
   ]
  },
  {
   "cell_type": "code",
   "execution_count": 10,
   "metadata": {
    "id": "emM-vM-0Yr8A"
   },
   "outputs": [],
   "source": [
    "import csv\n",
    "data_to_save = []  \n",
    "from datetime import datetime\n",
    "\n",
    "csv_file_path = 'emotion_data.csv'\n",
    "\n",
    "def analyze_emotion_from_speech(data_to_save):\n",
    "    while True:\n",
    "        print(\"Choose an option:\")\n",
    "        print(\"1. Analyze voice tone\")\n",
    "        print(\"2. Analyze text input\")\n",
    "        print(\"3. Exit\")\n",
    "        choice = input(\"Enter your choice (1, 2, or 3): \")\n",
    "\n",
    "        if choice == \"1\":\n",
    "            with sr.Microphone() as source:\n",
    "                print(\"Speak a sentence:\")\n",
    "                audio = r.listen(source)\n",
    "            try:\n",
    "                user_input = r.recognize_google(audio)\n",
    "                print(\"Recognized text:\", user_input)\n",
    "                emotion_labels = emotion(user_input)\n",
    "                detected_emotion = emotion_labels[0]['label']\n",
    "                emotion_score = emotion_labels[0]['score']\n",
    "                current_datetime = datetime.now()\n",
    "                print(\"Detected Emotion:\", detected_emotion)\n",
    "                print(\"Emotion Score:\", emotion_score)\n",
    "                print(\"Datetime:\", current_datetime)\n",
    "                data_to_save.append({\n",
    "                    'Datetime': current_datetime,\n",
    "                    'Recognized Text': user_input,\n",
    "                    'Emotion Label': detected_emotion,\n",
    "                    'Emotion Score': emotion_score\n",
    "                })\n",
    "                advice = chatbot_response(detected_emotion)\n",
    "                print(advice)\n",
    "                speak(advice)\n",
    "\n",
    "            except sr.UnknownValueError:\n",
    "                print(\"Speech recognition could not understand audio.\")\n",
    "            except sr.RequestError as e:\n",
    "                print(\"Could not request results from speech recognition service; {0}\".format(e))\n",
    "\n",
    "        elif choice == \"2\":\n",
    "            user_input = input(\"Enter a sentence: \")\n",
    "            print(\"Input text:\", user_input)\n",
    "            emotion_labels = emotion(user_input)\n",
    "            detected_emotion = emotion_labels[0]['label']\n",
    "            emotion_score = emotion_labels[0]['score']\n",
    "            current_datetime = datetime.now()\n",
    "            print(\"Detected Emotion:\", detected_emotion)\n",
    "            print(\"Emotion Score:\", emotion_score)\n",
    "            print(\"Datetime:\", current_datetime)\n",
    "            data_to_save.append({\n",
    "                'Datetime': current_datetime,\n",
    "                'Recognized Text': user_input,\n",
    "                'Emotion Label': detected_emotion,\n",
    "                'Emotion Score': emotion_score\n",
    "            })\n",
    "            advice = chatbot_response(detected_emotion)\n",
    "            print(advice)\n",
    "            speak(advice)\n",
    "\n",
    "        elif choice == \"3\":\n",
    "            print(\"Exiting the emotion analysis.\")\n",
    "            break\n"
   ]
  },
  {
   "cell_type": "markdown",
   "metadata": {
    "id": "x-mDNUfnYsSP"
   },
   "source": [
    "# **Main Function:**\n",
    "The main() function is where the main program logic is defined. It utilizes the functions mentioned above to create a conversational chatbot."
   ]
  },
  {
   "cell_type": "code",
   "execution_count": 11,
   "metadata": {
    "id": "8kduM8Z_ZA3J"
   },
   "outputs": [],
   "source": [
    "def main():\n",
    "    wishme()\n",
    "    data_to_save = []\n",
    "    while True:\n",
    "        command = takeCommand()\n",
    "        if command == \"exit\":\n",
    "            speak(\"Goodbye!\")\n",
    "            if data_to_save:\n",
    "                save_data_to_csv(data_to_save)\n",
    "\n",
    "            break\n",
    "\n",
    "        if \"tell me about\" in command:\n",
    "            query = re.search('tell me about (.+)', command).group(1)\n",
    "            searchWikipedia(query)\n",
    "        elif \"open website\" in command:\n",
    "            url = re.search('open website (.+)', command).group(1)\n",
    "            openWebsite(url)\n",
    "        elif command == \"tell me the time\":\n",
    "            current_time = time.strftime(\"%I:%M %p\")\n",
    "            speak(f\"The current time is {current_time}.\")\n",
    "        elif command == \"analyse emotions\":\n",
    "            analyze_emotion_from_speech(data_to_save)\n",
    "        else:\n",
    "            speak(\"I'm sorry, I don't know how to do that.\")\n",
    "\n",
    "  \n",
    "\n",
    "            \n",
    "\n",
    "\n",
    "fieldnames = ['Datetime', 'Recognized Text', 'Emotion Label', 'Emotion Score']\n",
    "csv_file_path = \"C:\\\\Users\\\\91739\\\\emo\\\\emotion_data.csv\"\n",
    "\n",
    "def save_data_to_csv(data):\n",
    "    if not data:\n",
    "        print(\"No data to save.\")\n",
    "        return\n",
    "    with open(csv_file_path, mode='a', newline='') as file:\n",
    "        writer = csv.DictWriter(file, fieldnames=fieldnames)\n",
    "        if file.tell() == 0:\n",
    "            writer.writeheader()\n",
    "        for row in data:\n",
    "            # Format the datetime as a string before writing to CSV\n",
    "            row['Datetime'] = datetime.strftime(row['Datetime'], \"%Y-%m-%d %H:%M:%S\")\n",
    "            writer.writerow(row)"
   ]
  },
  {
   "cell_type": "markdown",
   "metadata": {
    "id": "YP4L6D7QZNOR"
   },
   "source": [
    "# **Execution:**\n",
    "Finally, the code checks if it is being run as the main program, and if so, it executes the main() function."
   ]
  },
  {
   "cell_type": "code",
   "execution_count": 13,
   "metadata": {
    "id": "PZE-YibPZVSa"
   },
   "outputs": [
    {
     "name": "stdout",
     "output_type": "stream",
     "text": [
      "Speak now...\n",
      "You said: analyse emotions analyse emotions\n",
      "Speak now...\n",
      "You said: analyse emotions\n",
      "Choose an option:\n",
      "1. Analyze voice tone\n",
      "2. Analyze text input\n",
      "3. Exit\n",
      "Enter your choice (1, 2, or 3): 1\n",
      "Speak a sentence:\n",
      "Recognized text: I like race bikes\n",
      "Detected Emotion: love\n",
      "Emotion Score: 0.8317136168479919\n",
      "Datetime: 2023-09-12 14:14:51.451451\n",
      "Love is in the air! Here are some suggestions to embrace and share your love:\n",
      "Take time to nurture your relationships and create memorable moments.\n",
      "Choose an option:\n",
      "1. Analyze voice tone\n",
      "2. Analyze text input\n",
      "3. Exit\n",
      "Enter your choice (1, 2, or 3): 3\n",
      "Exiting the emotion analysis.\n",
      "Speak now...\n",
      "You said: exit\n"
     ]
    }
   ],
   "source": [
    "if __name__ == \"__main__\":\n",
    "    main()\n"
   ]
  },
  {
   "cell_type": "code",
   "execution_count": null,
   "metadata": {},
   "outputs": [],
   "source": [
    "from vaderSentiment.vaderSentiment import SentimentIntensityAnalyzer\n",
    "import speech_recognition as sr\n",
    "\n",
    "recognizer = sr.Recognizer()\n",
    "\n",
    "with sr.Microphone() as source:  # Added parentheses after Microphone\n",
    "    print('clearing background noise')\n",
    "    recognizer.adjust_for_ambient_noise(source, duration=1)\n",
    "    print('recording....')\n",
    "    recordedaudio = recognizer.listen(source)\n",
    "    print('done recording')\n",
    "\n",
    "try:\n",
    "    print('printing the message')\n",
    "    text = recognizer.recognize_google(recordedaudio, language='en-US')\n",
    "    print('your message: {}'.format(text))\n",
    "except sr.UnknownValueError:\n",
    "    print('Google Speech Recognition could not understand audio')\n",
    "except sr.RequestError as ex:\n",
    "    print('Could not request results from Google Speech Recognition service; {0}'.format(ex))\n",
    "\n",
    "Sentences = [str(text)]  # Changed 'Sentence' to 'Sentences' to match variable name\n",
    "analyzer = SentimentIntensityAnalyzer()\n",
    "for i in Sentences:\n",
    "    v = analyzer.polarity_scores(i)\n",
    "    print(v)"
   ]
  },
  {
   "cell_type": "code",
   "execution_count": 1,
   "metadata": {},
   "outputs": [
    {
     "name": "stdout",
     "output_type": "stream",
     "text": [
      "2.13.0\n"
     ]
    }
   ],
   "source": [
    "import tensorflow as tf\n",
    "print(tf.__version__)"
   ]
  },
  {
   "cell_type": "code",
   "execution_count": 2,
   "metadata": {},
   "outputs": [],
   "source": [
    "from tensorflow.keras.models import Sequential\n",
    "from tensorflow.keras.layers import Dense,Dropout,Activation,Flatten\n",
    "from tensorflow.keras.optimizers import Adam\n",
    "from sklearn import metrics"
   ]
  },
  {
   "cell_type": "code",
   "execution_count": null,
   "metadata": {},
   "outputs": [],
   "source": [
    "num_labels=y.shape[1]"
   ]
  }
 ],
 "metadata": {
  "colab": {
   "authorship_tag": "ABX9TyPMMpOuphx4ytTOb3TcgfwK",
   "include_colab_link": true,
   "provenance": []
  },
  "kernelspec": {
   "display_name": "Python 3 (ipykernel)",
   "language": "python",
   "name": "python3"
  },
  "language_info": {
   "codemirror_mode": {
    "name": "ipython",
    "version": 3
   },
   "file_extension": ".py",
   "mimetype": "text/x-python",
   "name": "python",
   "nbconvert_exporter": "python",
   "pygments_lexer": "ipython3",
   "version": "3.10.9"
  }
 },
 "nbformat": 4,
 "nbformat_minor": 4
}
